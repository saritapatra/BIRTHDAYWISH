{
 "cells": [
  {
   "cell_type": "markdown",
   "id": "8a6f1830-1b42-4af5-8321-2ccc8b1aa924",
   "metadata": {},
   "source": [
    "## BIRTHDAY WISHING"
   ]
  },
  {
   "cell_type": "code",
   "execution_count": null,
   "id": "c0f97f67-1214-46fd-90ee-84ea116fd120",
   "metadata": {},
   "outputs": [
    {
     "name": "stdout",
     "output_type": "stream",
     "text": [
      "HELLO,AYUSHI MAM I'm Sarita\n",
      " Please, Enter the name and codes\n"
     ]
    },
    {
     "name": "stdin",
     "output_type": "stream",
     "text": [
      "Enter Birthday peson's name : AYUSHI JAIN\n",
      "Enter the DOB : OCTOBER14TH\n"
     ]
    },
    {
     "name": "stdout",
     "output_type": "stream",
     "text": [
      "Enter correct DOB.\n",
      "select option between 1-2 for different types wishes:\n",
      "\n",
      "            press 1 for BIRTH DAY wishes\n",
      "            press 2 for CAKE !\n"
     ]
    },
    {
     "name": "stdin",
     "output_type": "stream",
     "text": [
      "enter your choice: 1\n"
     ]
    },
    {
     "name": "stdout",
     "output_type": "stream",
     "text": [
      "HAPPY BIRTHDAY MAM hope you have a great day today and the year ahead .\n",
      "select option between 1-2 for different types wishes:\n",
      "\n",
      "            press 1 for BIRTH DAY wishes\n",
      "            press 2 for CAKE !\n"
     ]
    },
    {
     "name": "stdin",
     "output_type": "stream",
     "text": [
      "enter your choice: 2\n"
     ]
    },
    {
     "name": "stdout",
     "output_type": "stream",
     "text": [
      "GIVE ME YOUR BIRTHDAY CAKE.....!!!!!\n",
      "select option between 1-2 for different types wishes:\n",
      "\n",
      "            press 1 for BIRTH DAY wishes\n",
      "            press 2 for CAKE !\n"
     ]
    }
   ],
   "source": [
    "Birthday_person = \"AYUSHI JAIN\"\n",
    "DOB = \" OCTOBER14th\"\n",
    "\n",
    "\n",
    "\n",
    "print(\"HELLO,AYUSHI MAM I'm Sarita\")\n",
    "print(\" Please, Enter the name and codes\")\n",
    "while True:\n",
    "    user = input(\"Enter Birthday peson's name :\")\n",
    "    if user == Birthday_person:\n",
    "        dob =input(\"Enter the DOB :\")\n",
    "        if dob == DOB:\n",
    "            print(\" A VERY WELCOME TO You!\")\n",
    "        else:\n",
    "            print(\"Enter correct DOB.\")\n",
    "        \n",
    "    else:\n",
    "        print(\"YOU ARE NOT AYUSHI MAM \")\n",
    "\n",
    "\n",
    "    while True:\n",
    "            print(\"select option between 1-2 for different types wishes:\")\n",
    "            print(\"\"\"\n",
    "            press 1 for BIRTH DAY wishes\n",
    "            press 2 for CAKE !\"\"\")\n",
    "            choice =int(input(\"enter your choice:\"))\n",
    "            if choice ==1:\n",
    "                print(\"HAPPY BIRTHDAY MAM hope you have a great day today and the year ahead .\")\n",
    "            elif choice == 2:\n",
    "                print(\"GIVE ME YOUR BIRTHDAY CAKE.....!!!!!\")\n",
    "            else:\n",
    "                print(\"EeeRrrrOoooRrr...<<<<BIRTHDAY LODING>>>>\")\n",
    "\n"
   ]
  },
  {
   "cell_type": "code",
   "execution_count": null,
   "id": "a1af95ed-136a-4f09-9cad-6541ac3dd2b9",
   "metadata": {},
   "outputs": [],
   "source": []
  }
 ],
 "metadata": {
  "kernelspec": {
   "display_name": "Python 3 (ipykernel)",
   "language": "python",
   "name": "python3"
  },
  "language_info": {
   "codemirror_mode": {
    "name": "ipython",
    "version": 3
   },
   "file_extension": ".py",
   "mimetype": "text/x-python",
   "name": "python",
   "nbconvert_exporter": "python",
   "pygments_lexer": "ipython3",
   "version": "3.11.5"
  }
 },
 "nbformat": 4,
 "nbformat_minor": 5
}
